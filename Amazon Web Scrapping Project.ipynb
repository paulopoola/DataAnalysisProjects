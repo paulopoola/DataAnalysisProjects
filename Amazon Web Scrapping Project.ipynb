{
 "cells": [
  {
   "cell_type": "code",
   "execution_count": 1,
   "id": "03b30b5a",
   "metadata": {},
   "outputs": [],
   "source": [
    "# importing libraries\n",
    "from bs4 import BeautifulSoup\n",
    "import requests\n",
    "import time\n",
    "import datetime\n",
    "import csv\n",
    "import smtplib\n",
    "import pandas as pd\n"
   ]
  },
  {
   "cell_type": "code",
   "execution_count": 2,
   "id": "37f826b9",
   "metadata": {},
   "outputs": [
    {
     "name": "stdout",
     "output_type": "stream",
     "text": [
      "\n",
      "                   Data Analyst Gift - Data Analysis Shirt - Data Scientist Present - Funny Data Science - I Don't Need Therapy - Unisex Tee\n",
      "                  \n",
      "\n",
      "                    $22.50\n",
      "                   \n"
     ]
    }
   ],
   "source": [
    "# Connect to Website and Pull in Data\n",
    "\n",
    "URL = 'https://www.amazon.com/Data-Analyst-Gift-Analysis-Scientist/dp/B0932FDK84/ref=sr_1_6?crid=3NO9UJMJVLBF6&dchild=1&keywords=data%2Banalyst%2Bshirt&qid=1631012623&sprefix=data%2Banalyst%2Bshirt&sr=8-6&th=1&psc=1'\n",
    "\n",
    "# https://httpbin.org/get\n",
    "headers = {\"User-Agent\": \"Mozilla/5.0 (Windows NT 10.0; Win64; x64) AppleWebKit/537.36 (KHTML, like Gecko) Chrome/93.0.4577.63 Safari/537.36\",\"Accept-Encoding\": \"gzip, deflate, br\", \"Accept\": \"text/html,application/xhtml+xml,application/xml;q=0.9,image/avif,image/webp,image/apng,*/*;q=0.8,application/signed-exchange;v=b3;q=0.9\",\"DNT\":\"1\", \"Connection\":\"close\", \"Upgrade-Insecure-Requests\": \"1\"}\n",
    "\n",
    "page = requests.get(URL, headers=headers)\n",
    "\n",
    "soup1 = BeautifulSoup(page.content, 'html.parser')\n",
    "\n",
    "soup2 = BeautifulSoup(soup1.prettify(), 'html.parser')\n",
    "\n",
    "title = soup2.find(id='productTitle').get_text()\n",
    "\n",
    "price = soup2.find(id='priceblock_ourprice').get_text()\n",
    "\n",
    "print(title)\n",
    "print(price)"
   ]
  },
  {
   "cell_type": "code",
   "execution_count": 3,
   "id": "187dd54f",
   "metadata": {},
   "outputs": [
    {
     "name": "stdout",
     "output_type": "stream",
     "text": [
      "Data Analysis Shirt \n",
      "22.50\n"
     ]
    }
   ],
   "source": [
    "#cleaning it a bit \n",
    "price = price.strip()[1:]\n",
    "title = title.strip()[20:40]\n",
    "\n",
    "print(title)\n",
    "print(price)"
   ]
  },
  {
   "cell_type": "code",
   "execution_count": 4,
   "id": "51711858",
   "metadata": {},
   "outputs": [
    {
     "name": "stdout",
     "output_type": "stream",
     "text": [
      "2021-09-07\n"
     ]
    }
   ],
   "source": [
    "today = datetime.date.today()\n",
    "print(today)"
   ]
  },
  {
   "cell_type": "code",
   "execution_count": 6,
   "id": "cad26b97",
   "metadata": {},
   "outputs": [],
   "source": [
    "\n",
    "header = ['Title','Price','Date']\n",
    "data = [title, price, today]\n",
    "\n",
    "#type(data) important to note the format of the data.  also 'w' below is write func\n",
    "\n",
    "#with open('AmazonWebscrappingDataset.csv', 'w', newline='', encoding='UTF8') as f:\n",
    "#    writer = csv.writer(f)\n",
    "#    writer.writerow(header)\n",
    "#    writer.writerow(data)"
   ]
  },
  {
   "cell_type": "code",
   "execution_count": 7,
   "id": "74e6ad95",
   "metadata": {},
   "outputs": [
    {
     "name": "stdout",
     "output_type": "stream",
     "text": [
      "                  Title  Price        Date\n",
      "0  Data Analysis Shirt    22.5  2021-09-07\n"
     ]
    }
   ],
   "source": [
    "df = pd.read_csv(r'C:\\Users\\PAUL\\AmazonWebscrappingDataset.csv')\n",
    "print(df)"
   ]
  },
  {
   "cell_type": "code",
   "execution_count": 8,
   "id": "6679f650",
   "metadata": {},
   "outputs": [],
   "source": [
    "# Appending data to the csv , not 'a+' append\n",
    "with open('AmazonWebscrappingDataset.csv', 'a+', newline='', encoding='UTF8') as f:\n",
    "    writer = csv.writer(f)\n",
    "    writer.writerow(data)\n",
    "    "
   ]
  },
  {
   "cell_type": "code",
   "execution_count": 9,
   "id": "034ff138",
   "metadata": {},
   "outputs": [],
   "source": [
    "# creating a function to automate the data inserting /pulling\n",
    "def check_price():\n",
    "    URL = 'https://www.amazon.com/Data-Analyst-Gift-Analysis-Scientist/dp/B0932FDK84/ref=sr_1_6?crid=3NO9UJMJVLBF6&dchild=1&keywords=data%2Banalyst%2Bshirt&qid=1631012623&sprefix=data%2Banalyst%2Bshirt&sr=8-6&th=1&psc=1'\n",
    "\n",
    "    headers = {\"User-Agent\": \"Mozilla/5.0 (Windows NT 10.0; Win64; x64) AppleWebKit/537.36 (KHTML, like Gecko) Chrome/93.0.4577.63 Safari/537.36\",\"Accept-Encoding\": \"gzip, deflate, br\", \"Accept\": \"text/html,application/xhtml+xml,application/xml;q=0.9,image/avif,image/webp,image/apng,*/*;q=0.8,application/signed-exchange;v=b3;q=0.9\",\"DNT\":\"1\", \"Connection\":\"close\", \"Upgrade-Insecure-Requests\": \"1\"}\n",
    "\n",
    "    page = requests.get(URL, headers=headers)\n",
    "\n",
    "    soup1 = BeautifulSoup(page.content, 'html.parser')\n",
    "\n",
    "    soup2 = BeautifulSoup(soup1.prettify(), 'html.parser')\n",
    "\n",
    "    title = soup2.find(id='productTitle').get_text()\n",
    "\n",
    "    price = soup2.find(id='priceblock_ourprice').get_text()\n",
    "    \n",
    "    price = price.strip()[1:]\n",
    "    \n",
    "    title = title.strip()\n",
    "    \n",
    "    today = datetime.date.today()\n",
    "    \n",
    "    header = ['Title','Price','Date']\n",
    "\n",
    "    data = [title, price, today]\n",
    "    \n",
    "    with open('AmazonWebscrappingDataset.csv', 'a+', newline='', encoding='UTF8') as f:\n",
    "        writer = csv.writer(f)\n",
    "        writer.writerow(data)\n"
   ]
  },
  {
   "cell_type": "code",
   "execution_count": null,
   "id": "9df1c064",
   "metadata": {},
   "outputs": [],
   "source": [
    "#if the price were to change in a 24hr period the value will be diff\n",
    "while True:\n",
    "    check_price()\n",
    "    time.sleep(24*60*60)\n",
    " \n"
   ]
  },
  {
   "cell_type": "code",
   "execution_count": null,
   "id": "bc7b965f",
   "metadata": {},
   "outputs": [],
   "source": [
    "\n",
    "df = pd.read_csv(r'C:\\Users\\PAUL\\AmazonWebscrappingDataset.csv')\n",
    "print(df)\n"
   ]
  },
  {
   "cell_type": "code",
   "execution_count": null,
   "id": "575ced1f",
   "metadata": {},
   "outputs": [],
   "source": [
    "# Creating an automated email to alert if price reaches a certain point\n",
    "\n",
    "def send_mail():\n",
    "    server = smtplib.SMTP_SSL('smtp.gmail.com',465)\n",
    "    server.ehlo()\n",
    "    #server.starttls()\n",
    "    server.ehlo()\n",
    "    server.login('paul.opoola@gmail.com','xxxxxxxxxxxx')\n",
    "    \n",
    "    subject = \"The Shirt you want is now below $15! Now is your chance to buy!\"\n",
    "    body = \"Paul, This is the moment we have been waiting for. Now is your chance to pick up the shirt of your dreams. Don't mess it up! Link here: https://www.amazon.com/Data-Analyst-Gift-Analysis-Scientist/dp/B0932FDK84/ref=sr_1_6?crid=3NO9UJMJVLBF6&dchild=1&keywords=data%2Banalyst%2Bshirt&qid=1631012623&sprefix=data%2Banalyst%2Bshirt&sr=8-6&th=1&psc=1\"\n",
    "   \n",
    "    msg = f\"Subject: {subject}\\n\\n{body}\"\n",
    "    \n",
    "    server.sendmail(\n",
    "        'paul.opoola@gmail.com',\n",
    "        msg\n",
    "     \n",
    "    )"
   ]
  }
 ],
 "metadata": {
  "kernelspec": {
   "display_name": "Python 3",
   "language": "python",
   "name": "python3"
  },
  "language_info": {
   "codemirror_mode": {
    "name": "ipython",
    "version": 3
   },
   "file_extension": ".py",
   "mimetype": "text/x-python",
   "name": "python",
   "nbconvert_exporter": "python",
   "pygments_lexer": "ipython3",
   "version": "3.8.8"
  }
 },
 "nbformat": 4,
 "nbformat_minor": 5
}
